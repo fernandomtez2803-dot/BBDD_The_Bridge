{
 "cells": [
  {
   "cell_type": "markdown",
   "id": "546b00e0",
   "metadata": {},
   "source": [
    "# Proyecto BBDD"
   ]
  },
  {
   "cell_type": "markdown",
   "id": "9e15e61a",
   "metadata": {},
   "source": [
    "## Importamos librerías"
   ]
  },
  {
   "cell_type": "code",
   "execution_count": 45,
   "id": "7a0c9afa",
   "metadata": {},
   "outputs": [
    {
     "name": "stdout",
     "output_type": "stream",
     "text": [
      "Librerías importadas correctamente\n"
     ]
    }
   ],
   "source": [
    "import os\n",
    "import sqlite3\n",
    "from datetime import datetime\n",
    "import pandas as pd\n",
    "\n",
    "import psycopg2\n",
    "\n",
    "print(\"Librerías importadas correctamente\")"
   ]
  },
  {
   "cell_type": "markdown",
   "id": "3a1e8aec",
   "metadata": {},
   "source": [
    "## Importamos y limpiamos los CSV"
   ]
  },
  {
   "cell_type": "code",
   "execution_count": 46,
   "id": "c3ae06c2",
   "metadata": {},
   "outputs": [],
   "source": [
    "# Importamos los csv con los datos del ejercicio\n",
    "df_alumnos_1= pd.read_csv('Data/Clase_1.csv', sep= \";\")\n",
    "df_alumnos_2= pd.read_csv('Data/Clase_2.csv', sep= \";\")\n",
    "df_alumnos_3= pd.read_csv('Data/Clase_3.csv', sep= \";\")\n",
    "df_alumnos_4= pd.read_csv('Data/Clase_4.csv', sep= \";\")\n",
    "df_profesores= pd.read_csv('Data/Claustro.csv', sep= \";\")"
   ]
  },
  {
   "cell_type": "code",
<<<<<<< HEAD
   "execution_count": 47,
=======
   "execution_count": null,
>>>>>>> 38c20d75afbae86a9a1bed92b64a52dcab76dc7e
   "id": "80b08db0",
   "metadata": {},
   "outputs": [
    {
     "data": {
      "text/html": [
       "<div>\n",
       "<style scoped>\n",
       "    .dataframe tbody tr th:only-of-type {\n",
       "        vertical-align: middle;\n",
       "    }\n",
       "\n",
       "    .dataframe tbody tr th {\n",
       "        vertical-align: top;\n",
       "    }\n",
       "\n",
       "    .dataframe thead th {\n",
       "        text-align: right;\n",
       "    }\n",
       "</style>\n",
       "<table border=\"1\" class=\"dataframe\">\n",
       "  <thead>\n",
       "    <tr style=\"text-align: right;\">\n",
       "      <th></th>\n",
       "      <th>Nombre</th>\n",
       "      <th>Email</th>\n",
       "      <th>Promoción</th>\n",
       "      <th>Fecha_comienzo</th>\n",
       "      <th>Campus</th>\n",
       "      <th>Proyecto_HLF</th>\n",
       "      <th>Proyecto_EDA</th>\n",
       "      <th>Proyecto_BBDD</th>\n",
       "      <th>Proyecto_ML</th>\n",
       "      <th>Proyecto_Deployment</th>\n",
       "      <th>Proyecto_WebDev</th>\n",
       "      <th>Proyecto_FrontEnd</th>\n",
       "      <th>Proyecto_Backend</th>\n",
       "      <th>Proyecto_React</th>\n",
       "      <th>Proyecto_FullSatck</th>\n",
       "    </tr>\n",
       "  </thead>\n",
       "  <tbody>\n",
       "    <tr>\n",
       "      <th>0</th>\n",
       "      <td>Jafet Casals</td>\n",
       "      <td>Jafet_Casals@gmail.com</td>\n",
       "      <td>Septiembre</td>\n",
       "      <td>18/09/2023</td>\n",
       "      <td>Madrid</td>\n",
       "      <td>Apto</td>\n",
       "      <td>No Apto</td>\n",
       "      <td>Apto</td>\n",
       "      <td>Apto</td>\n",
       "      <td>Apto</td>\n",
       "      <td>NaN</td>\n",
       "      <td>NaN</td>\n",
       "      <td>NaN</td>\n",
       "      <td>NaN</td>\n",
       "      <td>NaN</td>\n",
       "    </tr>\n",
       "    <tr>\n",
       "      <th>1</th>\n",
       "      <td>Jorge Manzanares</td>\n",
       "      <td>Jorge_Manzanares@gmail.com</td>\n",
       "      <td>Septiembre</td>\n",
       "      <td>18/09/2023</td>\n",
       "      <td>Madrid</td>\n",
       "      <td>Apto</td>\n",
       "      <td>No Apto</td>\n",
       "      <td>Apto</td>\n",
       "      <td>Apto</td>\n",
       "      <td>Apto</td>\n",
       "      <td>NaN</td>\n",
       "      <td>NaN</td>\n",
       "      <td>NaN</td>\n",
       "      <td>NaN</td>\n",
       "      <td>NaN</td>\n",
       "    </tr>\n",
       "    <tr>\n",
       "      <th>2</th>\n",
       "      <td>Onofre Adadia</td>\n",
       "      <td>Onofre_Adadia@gmail.com</td>\n",
       "      <td>Septiembre</td>\n",
       "      <td>18/09/2023</td>\n",
       "      <td>Madrid</td>\n",
       "      <td>Apto</td>\n",
       "      <td>Apto</td>\n",
       "      <td>Apto</td>\n",
       "      <td>No Apto</td>\n",
       "      <td>Apto</td>\n",
       "      <td>NaN</td>\n",
       "      <td>NaN</td>\n",
       "      <td>NaN</td>\n",
       "      <td>NaN</td>\n",
       "      <td>NaN</td>\n",
       "    </tr>\n",
       "    <tr>\n",
       "      <th>3</th>\n",
       "      <td>Merche Prada</td>\n",
       "      <td>Merche_Prada@gmail.com</td>\n",
       "      <td>Septiembre</td>\n",
       "      <td>18/09/2023</td>\n",
       "      <td>Madrid</td>\n",
       "      <td>Apto</td>\n",
       "      <td>No Apto</td>\n",
       "      <td>No Apto</td>\n",
       "      <td>Apto</td>\n",
       "      <td>No Apto</td>\n",
       "      <td>NaN</td>\n",
       "      <td>NaN</td>\n",
       "      <td>NaN</td>\n",
       "      <td>NaN</td>\n",
       "      <td>NaN</td>\n",
       "    </tr>\n",
       "    <tr>\n",
       "      <th>4</th>\n",
       "      <td>Pilar Abella</td>\n",
       "      <td>Pilar_Abella@gmail.com</td>\n",
       "      <td>Septiembre</td>\n",
       "      <td>18/09/2023</td>\n",
       "      <td>Madrid</td>\n",
       "      <td>Apto</td>\n",
       "      <td>No Apto</td>\n",
       "      <td>Apto</td>\n",
       "      <td>Apto</td>\n",
       "      <td>Apto</td>\n",
       "      <td>NaN</td>\n",
       "      <td>NaN</td>\n",
       "      <td>NaN</td>\n",
       "      <td>NaN</td>\n",
       "      <td>NaN</td>\n",
       "    </tr>\n",
       "  </tbody>\n",
       "</table>\n",
       "</div>"
      ],
      "text/plain": [
       "             Nombre                       Email   Promoción Fecha_comienzo  \\\n",
       "0      Jafet Casals      Jafet_Casals@gmail.com  Septiembre     18/09/2023   \n",
       "1  Jorge Manzanares  Jorge_Manzanares@gmail.com  Septiembre     18/09/2023   \n",
       "2     Onofre Adadia     Onofre_Adadia@gmail.com  Septiembre     18/09/2023   \n",
       "3      Merche Prada      Merche_Prada@gmail.com  Septiembre     18/09/2023   \n",
       "4      Pilar Abella      Pilar_Abella@gmail.com  Septiembre     18/09/2023   \n",
       "\n",
       "   Campus Proyecto_HLF Proyecto_EDA Proyecto_BBDD Proyecto_ML  \\\n",
       "0  Madrid         Apto      No Apto          Apto        Apto   \n",
       "1  Madrid         Apto      No Apto          Apto        Apto   \n",
       "2  Madrid         Apto         Apto          Apto     No Apto   \n",
       "3  Madrid         Apto      No Apto       No Apto        Apto   \n",
       "4  Madrid         Apto      No Apto          Apto        Apto   \n",
       "\n",
       "  Proyecto_Deployment Proyecto_WebDev Proyecto_FrontEnd Proyecto_Backend  \\\n",
       "0                Apto             NaN               NaN              NaN   \n",
       "1                Apto             NaN               NaN              NaN   \n",
       "2                Apto             NaN               NaN              NaN   \n",
       "3             No Apto             NaN               NaN              NaN   \n",
       "4                Apto             NaN               NaN              NaN   \n",
       "\n",
       "  Proyecto_React Proyecto_FullSatck  \n",
       "0            NaN                NaN  \n",
       "1            NaN                NaN  \n",
       "2            NaN                NaN  \n",
       "3            NaN                NaN  \n",
       "4            NaN                NaN  "
      ]
     },
     "execution_count": 47,
     "metadata": {},
     "output_type": "execute_result"
    }
   ],
   "source": [
    "# Unimos los df de alumnos en uno solo con el que poder trabajar\n",
    "\n",
    "df_alumnos= pd.concat([df_alumnos_1, df_alumnos_2, df_alumnos_3, df_alumnos_4], ignore_index= True)\n",
    "df_alumnos.head(5)"
   ]
  },
  {
   "cell_type": "code",
   "execution_count": null,
   "id": "6d791308",
   "metadata": {},
   "outputs": [],
   "source": [
    "# Cambiamos el nombre de las verticales para que no den error más adelante\n",
    "\n",
    "df_profesores['Vertical'] = df_profesores['Vertical'].replace({\n",
    "    'DS': 'Data Science',\n",
    "    'FS': 'Full Stack'\n",
    "})"
   ]
  },
  {
   "cell_type": "markdown",
   "id": "2abcdd66",
   "metadata": {},
   "source": [
    "## Conectamos el Notebook a la base de datos"
   ]
  },
  {
   "cell_type": "code",
   "execution_count": 49,
   "id": "b92970c2",
   "metadata": {},
   "outputs": [],
   "source": [
    "# Creamos la conexión al servidor de Render\n",
    "\n",
    "connection = psycopg2.connect(\n",
    "        host= 'dpg-d41069hr0fns739r6gq0-a.oregon-postgres.render.com',\n",
    "        database= 'bootcamp_z1q7',\n",
    "        user= 'bootcamp_z1q7_user',\n",
    "        password= '4MDOTwmhpav1upPCxzDtPrNStbgNmb2X',\n",
    "        port= 5432\n",
    "        ) \n",
    "\n",
    "cursor = connection.cursor()"
   ]
  },
  {
   "cell_type": "code",
   "execution_count": 50,
   "id": "5c6f0d29",
   "metadata": {},
   "outputs": [
    {
     "name": "stdout",
     "output_type": "stream",
     "text": [
      "Tablas en la base de datos:\n",
      "Alumnos\n",
      "Campus\n",
      "Vertical\n",
      "Promo\n",
      "Clases\n",
      "Profesores\n",
      "Matriculas\n",
      "Asignaciones\n",
      "Expediente\n",
      "Expedientes\n"
     ]
    }
   ],
   "source": [
    "# Con pgAdmin 4 vinculado a Render modificamos las tablas\n",
    "# Comprobación de que funciona:\n",
    "\n",
    "cursor.execute(\"\"\"\n",
    "        SELECT table_name\n",
    "        FROM information_schema.tables\n",
    "        WHERE table_schema = 'public';\n",
    "\"\"\")\n",
    "tablas = cursor.fetchall()\n",
    "print(\"Tablas en la base de datos:\")\n",
    "for tabla in tablas:\n",
    "    print(tabla[0])"
   ]
  },
  {
   "cell_type": "markdown",
   "id": "5aac8c60",
   "metadata": {},
   "source": [
    "## Rellenamos tablas\n",
    "\n",
    "#### Tabla: Alumnos"
   ]
  },
  {
   "cell_type": "code",
   "execution_count": 51,
   "id": "e6014147",
   "metadata": {},
   "outputs": [],
   "source": [
    "# Rellenamos cada alumno con nombre e email con un bucle\n",
    "\n",
    "for index, row in df_alumnos.iterrows():\n",
    "    cursor.execute('''\n",
    "    INSERT INTO \"Alumnos\" (\"Nombre\", \"email\")\n",
    "    VALUES (%s, %s)\n",
    "    ''', (\n",
    "        row['Nombre'], \n",
    "        row['Email']\n",
    "    ))\n",
    "\n",
    "connection.commit()"
   ]
  },
  {
   "cell_type": "markdown",
   "id": "d1ce403c",
   "metadata": {},
   "source": [
    "#### Tabla: Profesores"
   ]
  },
  {
   "cell_type": "code",
   "execution_count": 52,
   "id": "5915b872",
   "metadata": {},
   "outputs": [],
   "source": [
    "# Rellenamos cada alumno con nombre e email con un bucle\n",
    "\n",
    "for index, row in df_profesores.iterrows():\n",
    "    cursor.execute('''\n",
    "    INSERT INTO \"Profesores\" (\"Nombre\")\n",
    "    VALUES (%s)\n",
    "    ''', (\n",
    "        row['Nombre'],\n",
    "    ))\n",
    "\n",
    "connection.commit()"
   ]
  },
  {
   "cell_type": "markdown",
   "id": "26243f3e",
   "metadata": {},
   "source": [
    "#### Tabla: Asignaciones"
   ]
  },
  {
   "cell_type": "code",
   "execution_count": 53,
   "id": "fad0093c",
   "metadata": {},
   "outputs": [
    {
     "name": "stdout",
     "output_type": "stream",
     "text": [
      "Clases no encontradas: 0\n"
     ]
    }
   ],
   "source": [
    "# Este pedazo del código ha servido para ver que combiancion de clases de profes frente a alumnos no existía,\n",
    "# lo que daba un eror en la celda anterior\n",
    "\n",
    "missing = 0\n",
    "for i, row in df_profesores.iterrows():\n",
    "    cursor.execute('''SELECT COUNT(*) FROM \"Clases\" c\n",
    "                      JOIN \"Vertical\" v ON c.\"ID_Vertical\" = v.\"ID_Vertical\"\n",
    "                      JOIN \"Campus\" ca ON c.\"ID_Campus\" = ca.\"ID_Campus\"\n",
    "                      JOIN \"Promo\" p ON c.\"ID_Promo\" = p.\"ID_Promo\"\n",
    "                      WHERE v.\"Vertical\"=%s AND ca.\"Ciudad\"=%s AND p.\"Promocion\"=%s''',\n",
    "                      (row['Vertical'], row['Campus'], row['Promocion']))\n",
    "    if cursor.fetchone()[0] == 0:\n",
    "        missing += 1\n",
    "\n",
    "print(f\"Clases no encontradas: {missing}\")"
   ]
  },
  {
   "cell_type": "markdown",
   "id": "876e2670",
   "metadata": {},
   "source": [
    "#### Tabla: Matrículas"
   ]
  },
  {
   "cell_type": "code",
   "execution_count": null,
   "id": "665a980f",
   "metadata": {},
   "outputs": [],
   "source": [
    "# Tiramos el mismo código pero adaptádolo a alumnos -> matriculas <- clases\n",
    "\n",
    "for index, row in df_alumnos.iterrows():\n",
    "    nombre = row['Nombre']\n",
    "    campus = row['Campus']\n",
    "    promocion = row['Promoción']\n",
    "\n",
    "    # Recemos porque esto funcione\n",
    "    if row['Proyecto_HLF'] == 'Apto' or row['Proyecto_HLF'] == 'No Apto':\n",
    "        vertical = 'Data Science'\n",
    "    else: vertical = 'Full Stack'\n",
    "\n",
    "    cursor.execute('SELECT \"ID_Alumno\" FROM \"Alumnos\" WHERE \"Nombre\" = %s', (nombre,))\n",
    "    id_alumno = cursor.fetchone()\n",
    "\n",
    "    cursor.execute('''\n",
    "        SELECT \"ID_Clase\"\n",
    "        FROM \"Clases\"\n",
    "        JOIN \"Vertical\" ON \"Clases\".\"ID_Vertical\" = \"Vertical\".\"ID_Vertical\"\n",
    "        JOIN \"Campus\" ON \"Clases\".\"ID_Campus\" = \"Campus\".\"ID_Campus\"\n",
    "        JOIN \"Promo\" ON \"Clases\".\"ID_Promo\" = \"Promo\".\"ID_Promo\"\n",
    "        WHERE \"Vertical\".\"Vertical\" = %s AND \"Campus\".\"Ciudad\" = %s AND \"Promo\".\"Promocion\" = %s\n",
    "    ''', (vertical, campus, promocion))\n",
    "    id_clase = cursor.fetchone()\n",
    "\n",
    "    cursor.execute('''\n",
    "        INSERT INTO \"Matriculas\" (\"ID_Alumno\", \"ID_Clase\")\n",
    "        VALUES (%s, %s)\n",
    "    ''', (id_alumno[0], id_clase[0]))\n",
    "\n",
    "connection.commit()"
   ]
  },
  {
   "cell_type": "markdown",
   "id": "59434379",
   "metadata": {},
   "source": [
    "#### Tablas: Clases, Vertical, Campus, Promo\n",
    "\n",
    "Estas tablas las hemos rellenado usando pgAdmin 4.  \n",
    "Las tablas Vertical, Campus y Promo manualmente por ser sencillas.  \n",
    "La tabla clases con el siguiente query:"
   ]
  },
  {
   "cell_type": "markdown",
   "id": "9a523731",
   "metadata": {},
   "source": [
    "INSERT INTO \"Clases\" (\"ID_Vertical\", \"ID_Campus\", \"ID_Promo\")  \n",
    "VALUES  \n",
    "(  \n",
    "(select \"ID_Vertical\" from \"Vertical\" where \"Vertical\"= 'Data Science'),  \n",
    "(select \"ID_Campus\" from \"Campus\" where \"Ciudad\"= 'Madrid'),  \n",
    "(select \"ID_Promo\" from \"Promo\" where \"Promocion\"= 'Septiembre')  \n",
    "),  \n",
    "  \n",
    "(  \n",
    "(select \"ID_Vertical\" from \"Vertical\" where \"Vertical\"= 'Data Science'),  \n",
    "(select \"ID_Campus\" from \"Campus\" where \"Ciudad\"= 'Madrid'),  \n",
    "(select \"ID_Promo\" from \"Promo\" where \"Promocion\"= 'Febrero')  \n",
    "),   \n",
    "  \n",
    "(  \n",
    "(select \"ID_Vertical\" from \"Vertical\" where \"Vertical\"= 'Full Stack'),  \n",
    "(select \"ID_Campus\" from \"Campus\" where \"Ciudad\"= 'Madrid'),   \n",
    "(select \"ID_Promo\" from \"Promo\" where \"Promocion\"= 'Septiembre')  \n",
    "),  \n",
    "  \n",
    "(  \n",
    "(select \"ID_Vertical\" from \"Vertical\" where \"Vertical\"= 'Full Stack'),  \n",
    "(select \"ID_Campus\" from \"Campus\" where \"Ciudad\"= 'Valencia'),  \n",
    "(select \"ID_Promo\" from \"Promo\" where \"Promocion\"= 'Febrero')  \n",
    ")  \n",
    "  \n",
    "(  \n",
    "(select \"ID_Vertical\" from \"Vertical\" where \"Vertical\"= 'Full Stack'),  \n",
    "(select \"ID_Campus\" from \"Campus\" where \"Ciudad\"= 'Valencia'),  \n",
    "(select \"ID_Promo\" from \"Promo\" where \"Promocion\"= 'Septiembre')  \n",
    "),  \n",
    "  \n",
    "(  \n",
    "(select \"ID_Vertical\" from \"Vertical\" where \"Vertical\"= 'Full Stack'),  \n",
    "(select \"ID_Campus\" from \"Campus\" where \"Ciudad\"= 'Madrid'),  \n",
    "(select \"ID_Promo\" from \"Promo\" where \"Promocion\"= 'Febrero')  \n",
    ");  "
   ]
  },
  {
   "cell_type": "markdown",
   "id": "e151f8cc",
   "metadata": {},
   "source": [
    "## Rollback\n",
    "\n",
    "Si da error, tirar de aquí, cuando pueda lo implemento en un try except"
   ]
  },
  {
   "cell_type": "code",
<<<<<<< HEAD
   "execution_count": 54,
=======
   "execution_count": 61,
>>>>>>> 38c20d75afbae86a9a1bed92b64a52dcab76dc7e
   "id": "bb0b763d",
   "metadata": {},
   "outputs": [],
   "source": [
    "# SI ALGO FALLA EJECUTAR ESTO ANTES DE SEGUIR\n",
    "connection.rollback()"
   ]
<<<<<<< HEAD
=======
  },
  {
   "cell_type": "markdown",
   "id": "ff1d9bb0",
   "metadata": {},
   "source": [
    "## Preparamos algunas queries para tirar\n",
    "\n",
    "Las voy a dejar listas con un 'formato' pgAdmin 4:"
   ]
  },
  {
   "cell_type": "markdown",
   "id": "2061a12a",
   "metadata": {},
   "source": [
    "#### Alumnos que estudian cursan Data Science\n",
    "\n",
    "SELECT  \n",
    "&nbsp;&nbsp;&nbsp;&nbsp;&nbsp;&nbsp;&nbsp;&nbsp;\"Alumnos\".\"Nombre\",  \n",
    "&nbsp;&nbsp;&nbsp;&nbsp;&nbsp;&nbsp;&nbsp;&nbsp;\"Vertical\".\"Vertical\",  \n",
    "&nbsp;&nbsp;&nbsp;&nbsp;&nbsp;&nbsp;&nbsp;&nbsp;\"Campus\".\"Ciudad\",  \n",
    "&nbsp;&nbsp;&nbsp;&nbsp;&nbsp;&nbsp;&nbsp;&nbsp;\"Promo\".\"Promocion\"  \n",
    "FROM \"Alumnos\"  \n",
    "JOIN \"Matriculas\" ON \"Alumnos\".\"ID_Alumno\" = \"Matriculas\".\"ID_Alumno\"  \n",
    "JOIN \"Clases\" ON \"Matriculas\".\"ID_Clase\" = \"Clases\".\"ID_Clase\"  \n",
    "JOIN \"Vertical\" ON \"Clases\".\"ID_Vertical\" = \"Vertical\".\"ID_Vertical\"  \n",
    "JOIN \"Campus\" ON \"Clases\".\"ID_Campus\" = \"Campus\".\"ID_Campus\"  \n",
    "JOIN \"Promo\" ON \"Clases\".\"ID_Promo\" = \"Promo\".\"ID_Promo\"  \n",
    "WHERE \"Vertical\".\"Vertical\" = 'Data Science'  "
   ]
  },
  {
   "cell_type": "markdown",
   "id": "1e483a5e",
   "metadata": {},
   "source": [
    "#### Profesores que imparten clase en cursos relacionados con el campus de Valencia\n",
    "\n",
    "SELECT  \n",
    "&nbsp;&nbsp;&nbsp;&nbsp;&nbsp;&nbsp;&nbsp;&nbsp;\"Profesores\".\"Nombre\",  \n",
    "&nbsp;&nbsp;&nbsp;&nbsp;&nbsp;&nbsp;&nbsp;&nbsp;\"Vertical\".\"Vertical\",  \n",
    "&nbsp;&nbsp;&nbsp;&nbsp;&nbsp;&nbsp;&nbsp;&nbsp;\"Campus\".\"Ciudad\",  \n",
    "&nbsp;&nbsp;&nbsp;&nbsp;&nbsp;&nbsp;&nbsp;&nbsp;\"Promo\".\"Promocion\",  \n",
    "&nbsp;&nbsp;&nbsp;&nbsp;&nbsp;&nbsp;&nbsp;&nbsp;\"Asignaciones\".\"Modalidad\",  \n",
    "&nbsp;&nbsp;&nbsp;&nbsp;&nbsp;&nbsp;&nbsp;&nbsp;\"Asignaciones\".\"Rol\"  \n",
    "FROM \"Profesores\"  \n",
    "JOIN \"Asignaciones\" ON \"Profesores\".\"ID_Profe\" = \"Asignaciones\".\"ID_Profe\"  \n",
    "JOIN \"Clases\" ON \"Asignaciones\".\"ID_Clase\" = \"Clases\".\"ID_Clase\"  \n",
    "JOIN \"Vertical\" ON \"Clases\".\"ID_Vertical\" = \"Vertical\".\"ID_Vertical\"  \n",
    "JOIN \"Campus\" ON \"Clases\".\"ID_Campus\" = \"Campus\".\"ID_Campus\"  \n",
    "JOIN \"Promo\" ON \"Clases\".\"ID_Promo\" = \"Promo\".\"ID_Promo\"  \n",
    "WHERE \"Campus\".\"Ciudad\" = 'Valencia'  "
   ]
  },
  {
   "cell_type": "markdown",
   "id": "98a965c4",
   "metadata": {},
   "source": [
    "#### Calificaciones de los proyectos para los estudiantes de Data Science\n",
    "\n",
    "SELECT  \n",
    "&nbsp;&nbsp;&nbsp;&nbsp;&nbsp;&nbsp;&nbsp;&nbsp;\"Alumnos\".\"Nombre\",  \n",
    "&nbsp;&nbsp;&nbsp;&nbsp;&nbsp;&nbsp;&nbsp;&nbsp;\"Expediente\".\"HLF\",  \n",
    "&nbsp;&nbsp;&nbsp;&nbsp;&nbsp;&nbsp;&nbsp;&nbsp;\"Expediente\".\"EDA\",  \n",
    "&nbsp;&nbsp;&nbsp;&nbsp;&nbsp;&nbsp;&nbsp;&nbsp;\"Expediente\".\"BBDD\",  \n",
    "&nbsp;&nbsp;&nbsp;&nbsp;&nbsp;&nbsp;&nbsp;&nbsp;\"Expediente\".\"ML\",  \n",
    "&nbsp;&nbsp;&nbsp;&nbsp;&nbsp;&nbsp;&nbsp;&nbsp;\"Expediente\".\"Deployment\"\n",
    "FROM \"Alumnos\"  \n",
    "JOIN \"Matriculas\" ON \"Matriculas\".\"ID_Alumno\" = \"Alumnos\".\"ID_Alumno\"  \n",
    "JOIN \"Expediente\" ON \"Expediente\".\"ID_Matricula\" = \"Matriculas\".\"ID_Matricula\"  \n",
    "JOIN \"Clases\" ON \"Clases\".\"ID_Clase\" = \"Matriculas\".\"ID_Matricula\"  \n",
    "JOIN \"Vertical\" ON \"Vertical\".\"ID_Vertical\" = \"Clases\".\"ID_Vertical\"  \n",
    "WHERE \"Vertical\".\"Vertical\" = 'Data Science'  "
   ]
  },
  {
   "cell_type": "markdown",
   "id": "4e986ea4",
   "metadata": {},
   "source": [
    "#### Alumnos de Full Stack que hayan aprobado todos sus proyectos\n",
    "\n",
    "SELECT  \n",
    "&nbsp;&nbsp;&nbsp;&nbsp;&nbsp;&nbsp;&nbsp;&nbsp;\"Alumnos\".\"Nombre\",  \n",
    "&nbsp;&nbsp;&nbsp;&nbsp;&nbsp;&nbsp;&nbsp;&nbsp;\"Expediente\".\"Web Dev\",  \n",
    "&nbsp;&nbsp;&nbsp;&nbsp;&nbsp;&nbsp;&nbsp;&nbsp;\"Expediente\".\"Front End\",  \n",
    "&nbsp;&nbsp;&nbsp;&nbsp;&nbsp;&nbsp;&nbsp;&nbsp;\"Expediente\".\"Back End\",  \n",
    "&nbsp;&nbsp;&nbsp;&nbsp;&nbsp;&nbsp;&nbsp;&nbsp;\"Expediente\".\"React\",  \n",
    "&nbsp;&nbsp;&nbsp;&nbsp;&nbsp;&nbsp;&nbsp;&nbsp;\"Expediente\".\"Full Stack\"  \n",
    "FROM \"Alumnos\"  \n",
    "JOIN \"Matriculas\" ON \"Matriculas\".\"ID_Alumno\" = \"Alumnos\".\"ID_Alumno\"  \n",
    "JOIN \"Expediente\" ON \"Expediente\".\"ID_Matricula\" = \"Matriculas\".\"ID_Matricula\"  \n",
    "JOIN \"Clases\" ON \"Clases\".\"ID_Clase\" = \"Matriculas\".\"ID_Matricula\"  \n",
    "JOIN \"Vertical\" ON \"Vertical\".\"ID_Vertical\" = \"Clases\".\"ID_Vertical\"  \n",
    "WHERE \"Vertical\".\"Vertical\" = 'Full Stack'  \n",
    "AND \"Web Dev\" = 'Apto'  \n",
    "AND \"Front End\" = 'Apto'  \n",
    "AND \"Back End\" = 'Apto'  \n",
    "AND \"React\" = 'Apto'  \n",
    "AND \"Full Stack\" = 'Apto'  "
   ]
  },
  {
   "cell_type": "markdown",
   "id": "3e4eb6ff",
   "metadata": {},
   "source": []
>>>>>>> 38c20d75afbae86a9a1bed92b64a52dcab76dc7e
  }
 ],
 "metadata": {
  "kernelspec": {
   "display_name": "Python 3",
   "language": "python",
   "name": "python3"
  },
  "language_info": {
   "codemirror_mode": {
    "name": "ipython",
    "version": 3
   },
   "file_extension": ".py",
   "mimetype": "text/x-python",
   "name": "python",
   "nbconvert_exporter": "python",
   "pygments_lexer": "ipython3",
   "version": "3.11.9"
  }
 },
 "nbformat": 4,
 "nbformat_minor": 5
}
