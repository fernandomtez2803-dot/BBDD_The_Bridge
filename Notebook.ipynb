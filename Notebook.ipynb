{
 "cells": [
  {
   "cell_type": "markdown",
   "id": "546b00e0",
   "metadata": {},
   "source": [
    "# Proyecto BBDD"
   ]
  },
  {
   "cell_type": "markdown",
   "id": "9e15e61a",
   "metadata": {},
   "source": [
    "## Importamos librerías"
   ]
  },
  {
   "cell_type": "code",
   "execution_count": 45,
   "id": "7a0c9afa",
   "metadata": {},
   "outputs": [
    {
     "name": "stdout",
     "output_type": "stream",
     "text": [
      "Librerías importadas correctamente\n"
     ]
    }
   ],
   "source": [
    "import os\n",
    "import sqlite3\n",
    "from datetime import datetime\n",
    "import pandas as pd\n",
    "\n",
    "import psycopg2\n",
    "\n",
    "print(\"Librerías importadas correctamente\")"
   ]
  },
  {
   "cell_type": "markdown",
   "id": "3a1e8aec",
   "metadata": {},
   "source": [
    "## Importamos y limpiamos los CSV"
   ]
  },
  {
   "cell_type": "code",
   "execution_count": 46,
   "id": "c3ae06c2",
   "metadata": {},
   "outputs": [],
   "source": [
    "# Importamos los csv con los datos del ejercicio\n",
    "df_alumnos_1= pd.read_csv('Data/Clase_1.csv', sep= \";\")\n",
    "df_alumnos_2= pd.read_csv('Data/Clase_2.csv', sep= \";\")\n",
    "df_alumnos_3= pd.read_csv('Data/Clase_3.csv', sep= \";\")\n",
    "df_alumnos_4= pd.read_csv('Data/Clase_4.csv', sep= \";\")\n",
    "df_profesores= pd.read_csv('Data/Claustro.csv', sep= \";\")"
   ]
  },
  {
   "cell_type": "code",
   "execution_count": 47,
   "id": "80b08db0",
   "metadata": {},
   "outputs": [
    {
     "data": {
      "text/html": [
       "<div>\n",
       "<style scoped>\n",
       "    .dataframe tbody tr th:only-of-type {\n",
       "        vertical-align: middle;\n",
       "    }\n",
       "\n",
       "    .dataframe tbody tr th {\n",
       "        vertical-align: top;\n",
       "    }\n",
       "\n",
       "    .dataframe thead th {\n",
       "        text-align: right;\n",
       "    }\n",
       "</style>\n",
       "<table border=\"1\" class=\"dataframe\">\n",
       "  <thead>\n",
       "    <tr style=\"text-align: right;\">\n",
       "      <th></th>\n",
       "      <th>Nombre</th>\n",
       "      <th>Email</th>\n",
       "      <th>Promoción</th>\n",
       "      <th>Fecha_comienzo</th>\n",
       "      <th>Campus</th>\n",
       "      <th>Proyecto_HLF</th>\n",
       "      <th>Proyecto_EDA</th>\n",
       "      <th>Proyecto_BBDD</th>\n",
       "      <th>Proyecto_ML</th>\n",
       "      <th>Proyecto_Deployment</th>\n",
       "      <th>Proyecto_WebDev</th>\n",
       "      <th>Proyecto_FrontEnd</th>\n",
       "      <th>Proyecto_Backend</th>\n",
       "      <th>Proyecto_React</th>\n",
       "      <th>Proyecto_FullSatck</th>\n",
       "    </tr>\n",
       "  </thead>\n",
       "  <tbody>\n",
       "    <tr>\n",
       "      <th>0</th>\n",
       "      <td>Jafet Casals</td>\n",
       "      <td>Jafet_Casals@gmail.com</td>\n",
       "      <td>Septiembre</td>\n",
       "      <td>18/09/2023</td>\n",
       "      <td>Madrid</td>\n",
       "      <td>Apto</td>\n",
       "      <td>No Apto</td>\n",
       "      <td>Apto</td>\n",
       "      <td>Apto</td>\n",
       "      <td>Apto</td>\n",
       "      <td>NaN</td>\n",
       "      <td>NaN</td>\n",
       "      <td>NaN</td>\n",
       "      <td>NaN</td>\n",
       "      <td>NaN</td>\n",
       "    </tr>\n",
       "    <tr>\n",
       "      <th>1</th>\n",
       "      <td>Jorge Manzanares</td>\n",
       "      <td>Jorge_Manzanares@gmail.com</td>\n",
       "      <td>Septiembre</td>\n",
       "      <td>18/09/2023</td>\n",
       "      <td>Madrid</td>\n",
       "      <td>Apto</td>\n",
       "      <td>No Apto</td>\n",
       "      <td>Apto</td>\n",
       "      <td>Apto</td>\n",
       "      <td>Apto</td>\n",
       "      <td>NaN</td>\n",
       "      <td>NaN</td>\n",
       "      <td>NaN</td>\n",
       "      <td>NaN</td>\n",
       "      <td>NaN</td>\n",
       "    </tr>\n",
       "    <tr>\n",
       "      <th>2</th>\n",
       "      <td>Onofre Adadia</td>\n",
       "      <td>Onofre_Adadia@gmail.com</td>\n",
       "      <td>Septiembre</td>\n",
       "      <td>18/09/2023</td>\n",
       "      <td>Madrid</td>\n",
       "      <td>Apto</td>\n",
       "      <td>Apto</td>\n",
       "      <td>Apto</td>\n",
       "      <td>No Apto</td>\n",
       "      <td>Apto</td>\n",
       "      <td>NaN</td>\n",
       "      <td>NaN</td>\n",
       "      <td>NaN</td>\n",
       "      <td>NaN</td>\n",
       "      <td>NaN</td>\n",
       "    </tr>\n",
       "    <tr>\n",
       "      <th>3</th>\n",
       "      <td>Merche Prada</td>\n",
       "      <td>Merche_Prada@gmail.com</td>\n",
       "      <td>Septiembre</td>\n",
       "      <td>18/09/2023</td>\n",
       "      <td>Madrid</td>\n",
       "      <td>Apto</td>\n",
       "      <td>No Apto</td>\n",
       "      <td>No Apto</td>\n",
       "      <td>Apto</td>\n",
       "      <td>No Apto</td>\n",
       "      <td>NaN</td>\n",
       "      <td>NaN</td>\n",
       "      <td>NaN</td>\n",
       "      <td>NaN</td>\n",
       "      <td>NaN</td>\n",
       "    </tr>\n",
       "    <tr>\n",
       "      <th>4</th>\n",
       "      <td>Pilar Abella</td>\n",
       "      <td>Pilar_Abella@gmail.com</td>\n",
       "      <td>Septiembre</td>\n",
       "      <td>18/09/2023</td>\n",
       "      <td>Madrid</td>\n",
       "      <td>Apto</td>\n",
       "      <td>No Apto</td>\n",
       "      <td>Apto</td>\n",
       "      <td>Apto</td>\n",
       "      <td>Apto</td>\n",
       "      <td>NaN</td>\n",
       "      <td>NaN</td>\n",
       "      <td>NaN</td>\n",
       "      <td>NaN</td>\n",
       "      <td>NaN</td>\n",
       "    </tr>\n",
       "  </tbody>\n",
       "</table>\n",
       "</div>"
      ],
      "text/plain": [
       "             Nombre                       Email   Promoción Fecha_comienzo  \\\n",
       "0      Jafet Casals      Jafet_Casals@gmail.com  Septiembre     18/09/2023   \n",
       "1  Jorge Manzanares  Jorge_Manzanares@gmail.com  Septiembre     18/09/2023   \n",
       "2     Onofre Adadia     Onofre_Adadia@gmail.com  Septiembre     18/09/2023   \n",
       "3      Merche Prada      Merche_Prada@gmail.com  Septiembre     18/09/2023   \n",
       "4      Pilar Abella      Pilar_Abella@gmail.com  Septiembre     18/09/2023   \n",
       "\n",
       "   Campus Proyecto_HLF Proyecto_EDA Proyecto_BBDD Proyecto_ML  \\\n",
       "0  Madrid         Apto      No Apto          Apto        Apto   \n",
       "1  Madrid         Apto      No Apto          Apto        Apto   \n",
       "2  Madrid         Apto         Apto          Apto     No Apto   \n",
       "3  Madrid         Apto      No Apto       No Apto        Apto   \n",
       "4  Madrid         Apto      No Apto          Apto        Apto   \n",
       "\n",
       "  Proyecto_Deployment Proyecto_WebDev Proyecto_FrontEnd Proyecto_Backend  \\\n",
       "0                Apto             NaN               NaN              NaN   \n",
       "1                Apto             NaN               NaN              NaN   \n",
       "2                Apto             NaN               NaN              NaN   \n",
       "3             No Apto             NaN               NaN              NaN   \n",
       "4                Apto             NaN               NaN              NaN   \n",
       "\n",
       "  Proyecto_React Proyecto_FullSatck  \n",
       "0            NaN                NaN  \n",
       "1            NaN                NaN  \n",
       "2            NaN                NaN  \n",
       "3            NaN                NaN  \n",
       "4            NaN                NaN  "
      ]
     },
     "execution_count": 47,
     "metadata": {},
     "output_type": "execute_result"
    }
   ],
   "source": [
    "df_alumnos= pd.concat([df_alumnos_1, df_alumnos_2, df_alumnos_3, df_alumnos_4], ignore_index= True)\n",
    "df_alumnos.head(5)"
   ]
  },
  {
   "cell_type": "code",
   "execution_count": 48,
   "id": "6d791308",
   "metadata": {},
   "outputs": [],
   "source": [
    "# Cambio el nombre de las verticales para que no me de error más tarde\n",
    "\n",
    "df_profesores['Vertical'] = df_profesores['Vertical'].replace({\n",
    "    'DS': 'Data Science',\n",
    "    'FS': 'Full Stack'\n",
    "})"
   ]
  },
  {
   "cell_type": "markdown",
   "id": "2abcdd66",
   "metadata": {},
   "source": [
    "## Conectamos el Notebook a la base de datos"
   ]
  },
  {
   "cell_type": "code",
   "execution_count": 49,
   "id": "b92970c2",
   "metadata": {},
   "outputs": [],
   "source": [
    "# Creamos la conexión al servidor de Render\n",
    "\n",
    "connection = psycopg2.connect(\n",
    "        host= 'dpg-d41069hr0fns739r6gq0-a.oregon-postgres.render.com',\n",
    "        database= 'bootcamp_z1q7',\n",
    "        user= 'bootcamp_z1q7_user',\n",
    "        password= '4MDOTwmhpav1upPCxzDtPrNStbgNmb2X',\n",
    "        port= 5432\n",
    "        ) \n",
    "\n",
    "cursor = connection.cursor()"
   ]
  },
  {
   "cell_type": "code",
   "execution_count": 50,
   "id": "5c6f0d29",
   "metadata": {},
   "outputs": [
    {
     "name": "stdout",
     "output_type": "stream",
     "text": [
      "Tablas en la base de datos:\n",
      "Alumnos\n",
      "Campus\n",
      "Vertical\n",
      "Promo\n",
      "Clases\n",
      "Profesores\n",
      "Matriculas\n",
      "Asignaciones\n",
      "Expediente\n",
      "Expedientes\n"
     ]
    }
   ],
   "source": [
    "# Con pgAdmin 4 vinculado a Render modificamos las tablas\n",
    "# Comprobación de que funciona:\n",
    "\n",
    "cursor.execute(\"\"\"\n",
    "        SELECT table_name\n",
    "        FROM information_schema.tables\n",
    "        WHERE table_schema = 'public';\n",
    "\"\"\")\n",
    "tablas = cursor.fetchall()\n",
    "print(\"Tablas en la base de datos:\")\n",
    "for tabla in tablas:\n",
    "    print(tabla[0])"
   ]
  },
  {
   "cell_type": "markdown",
   "id": "5aac8c60",
   "metadata": {},
   "source": [
    "## Rellenamos tablas\n",
    "\n",
    "#### Tabla: Alumnos"
   ]
  },
  {
   "cell_type": "code",
   "execution_count": 51,
   "id": "e6014147",
   "metadata": {},
   "outputs": [],
   "source": [
    "# Rellenamos cada alumno con nombre e email con un bucle\n",
    "\n",
    "for index, row in df_alumnos.iterrows():\n",
    "    cursor.execute('''\n",
    "    INSERT INTO \"Alumnos\" (\"Nombre\", \"email\")\n",
    "    VALUES (%s, %s)\n",
    "    ''', (\n",
    "        row['Nombre'], \n",
    "        row['Email']\n",
    "    ))\n",
    "\n",
    "connection.commit()"
   ]
  },
  {
   "cell_type": "markdown",
   "id": "d1ce403c",
   "metadata": {},
   "source": [
    "#### Tabla: Profesores"
   ]
  },
  {
   "cell_type": "code",
   "execution_count": 52,
   "id": "5915b872",
   "metadata": {},
   "outputs": [],
   "source": [
    "# Rellenamos cada alumno con nombre e email con un bucle\n",
    "\n",
    "for index, row in df_profesores.iterrows():\n",
    "    cursor.execute('''\n",
    "    INSERT INTO \"Profesores\" (\"Nombre\")\n",
    "    VALUES (%s)\n",
    "    ''', (\n",
    "        row['Nombre'],\n",
    "    ))\n",
    "\n",
    "connection.commit()"
   ]
  },
  {
   "cell_type": "markdown",
   "id": "26243f3e",
   "metadata": {},
   "source": [
    "#### Tabla: Asignaciones"
   ]
  },
  {
   "cell_type": "code",
   "execution_count": 53,
   "id": "fad0093c",
   "metadata": {},
   "outputs": [
    {
     "name": "stdout",
     "output_type": "stream",
     "text": [
      "Clases no encontradas: 0\n"
     ]
    }
   ],
   "source": [
    "# Este pedazo del código ha servido para ver que combiancion de clases de profes frente a alumnos no existía,\n",
    "# lo que daba un eror en la celda anterior\n",
    "\n",
    "missing = 0\n",
    "for i, row in df_profesores.iterrows():\n",
    "    cursor.execute('''SELECT COUNT(*) FROM \"Clases\" c\n",
    "                      JOIN \"Vertical\" v ON c.\"ID_Vertical\" = v.\"ID_Vertical\"\n",
    "                      JOIN \"Campus\" ca ON c.\"ID_Campus\" = ca.\"ID_Campus\"\n",
    "                      JOIN \"Promo\" p ON c.\"ID_Promo\" = p.\"ID_Promo\"\n",
    "                      WHERE v.\"Vertical\"=%s AND ca.\"Ciudad\"=%s AND p.\"Promocion\"=%s''',\n",
    "                      (row['Vertical'], row['Campus'], row['Promocion']))\n",
    "    if cursor.fetchone()[0] == 0:\n",
    "        missing += 1\n",
    "\n",
    "print(f\"Clases no encontradas: {missing}\")"
   ]
  },
  {
   "cell_type": "markdown",
   "id": "e151f8cc",
   "metadata": {},
   "source": [
    "## Rollback\n",
    "\n",
    "Si da error, tirar de aquí, cuando pueda lo implemento en un try except"
   ]
  },
  {
   "cell_type": "code",
   "execution_count": 54,
   "id": "bb0b763d",
   "metadata": {},
   "outputs": [],
   "source": [
    "# SI ALGO FALLA EJECUTAR ESTO ANTES DE SEGUIR\n",
    "connection.rollback()"
   ]
  }
 ],
 "metadata": {
  "kernelspec": {
   "display_name": "Python 3",
   "language": "python",
   "name": "python3"
  },
  "language_info": {
   "codemirror_mode": {
    "name": "ipython",
    "version": 3
   },
   "file_extension": ".py",
   "mimetype": "text/x-python",
   "name": "python",
   "nbconvert_exporter": "python",
   "pygments_lexer": "ipython3",
   "version": "3.11.9"
  }
 },
 "nbformat": 4,
 "nbformat_minor": 5
}
